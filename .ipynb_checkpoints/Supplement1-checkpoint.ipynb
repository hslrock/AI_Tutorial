{
 "cells": [
  {
   "cell_type": "markdown",
   "metadata": {},
   "source": [
    "# BackGround Knowledge"
   ]
  },
  {
   "cell_type": "markdown",
   "metadata": {},
   "source": [
    "## Contents\n",
    "\n",
    "\n",
    "   > - Forward Propagation\n",
    "   > - Loss & Gradient Descent\n",
    "   > - Backward Propagation"
   ]
  },
  {
   "cell_type": "markdown",
   "metadata": {},
   "source": [
    "## Forward Propagation"
   ]
  },
  {
   "cell_type": "markdown",
   "metadata": {},
   "source": [
    "<img src=\"img/neural_network.png\" width=600/>\n",
    "\n",
    "<img src=\"img/neural_network1.png\" />"
   ]
  },
  {
   "cell_type": "code",
   "execution_count": 1,
   "metadata": {},
   "outputs": [],
   "source": [
    "import torch\n",
    "import torch.nn as nn\n",
    "import numpy as np\n",
    "import matplotlib.pyplot as plt"
   ]
  },
  {
   "cell_type": "code",
   "execution_count": 2,
   "metadata": {},
   "outputs": [
    {
     "name": "stdout",
     "output_type": "stream",
     "text": [
      "Parameter containing:\n",
      "tensor([[-0.0043,  0.3097, -0.4752]], requires_grad=True)\n",
      "Parameter containing:\n",
      "tensor([-0.4249], requires_grad=True)\n"
     ]
    }
   ],
   "source": [
    "torch.manual_seed(0)  #<- Setting RANDOM value to CONSTANT\n",
    "\n",
    "simple_linear=nn.Linear(3,1,bias=True) ##Same format as above network\n",
    "\n",
    "\n",
    "for parameter in simple_linear.parameters(): #Print Parameters\n",
    "    print(parameter)\n",
    "    \n",
    "    "
   ]
  },
  {
   "cell_type": "code",
   "execution_count": 3,
   "metadata": {},
   "outputs": [
    {
     "name": "stdout",
     "output_type": "stream",
     "text": [
      "tensor([-2.0501], grad_fn=<AddBackward0>)\n"
     ]
    }
   ],
   "source": [
    "\n",
    "sample_input=torch.tensor([3.,4.,6.])\n",
    "predicted_output=simple_linear(sample_input)\n",
    "print(predicted_output)"
   ]
  },
  {
   "cell_type": "code",
   "execution_count": 4,
   "metadata": {},
   "outputs": [
    {
     "data": {
      "text/plain": [
       "-2.0502"
      ]
     },
     "execution_count": 4,
     "metadata": {},
     "output_type": "execute_result"
    }
   ],
   "source": [
    "(3*-0.0043)+(4*0.3097)+(6*-0.4752)+(-0.4249) #Actual Cacluation"
   ]
  },
  {
   "cell_type": "markdown",
   "metadata": {},
   "source": [
    "## Loss Curve & Gradient Descent"
   ]
  },
  {
   "cell_type": "markdown",
   "metadata": {},
   "source": [
    "<img src=\"img/gradient_descent.png\" width=600/>"
   ]
  },
  {
   "cell_type": "markdown",
   "metadata": {},
   "source": [
    "**Regression Loss Type:**\n",
    "\n",
    "   MSE,MAE   #MAE is robust to outlier MSE has easier gradient\n",
    "   \n",
    "**Classification Loss Type:**\n",
    "\n",
    "   Hinge Loss, Cross Entropy\n",
    "    \n",
    "https://towardsdatascience.com/common-loss-functions-in-machine-learning-46af0ffc4d23    "
   ]
  },
  {
   "cell_type": "code",
   "execution_count": 5,
   "metadata": {},
   "outputs": [],
   "source": [
    "y_true=torch.tensor(-2.)"
   ]
  },
  {
   "cell_type": "markdown",
   "metadata": {},
   "source": [
    "$$\n",
    "MSE=\\frac{1}{n}\\sum_{i=1}^{n} (y_i-x_i)^2\n",
    "$$"
   ]
  },
  {
   "cell_type": "code",
   "execution_count": 6,
   "metadata": {},
   "outputs": [
    {
     "name": "stdout",
     "output_type": "stream",
     "text": [
      "tensor(0.0025, grad_fn=<MseLossBackward>)\n",
      "tensor(0.0025, grad_fn=<MeanBackward0>)\n"
     ]
    },
    {
     "name": "stderr",
     "output_type": "stream",
     "text": [
      "C:\\Users\\HyunSeung\\Anaconda3\\lib\\site-packages\\torch\\nn\\modules\\loss.py:431: UserWarning: Using a target size (torch.Size([])) that is different to the input size (torch.Size([1])). This will likely lead to incorrect results due to broadcasting. Please ensure they have the same size.\n",
      "  return F.mse_loss(input, target, reduction=self.reduction)\n",
      "C:\\Users\\HyunSeung\\Anaconda3\\lib\\site-packages\\torch\\nn\\modules\\loss.py:431: UserWarning: Using a target size (torch.Size([1])) that is different to the input size (torch.Size([])). This will likely lead to incorrect results due to broadcasting. Please ensure they have the same size.\n",
      "  return F.mse_loss(input, target, reduction=self.reduction)\n"
     ]
    }
   ],
   "source": [
    "loss=nn.MSELoss() #torch's loss function\n",
    "print(loss(predicted_output,y_true))\n",
    "print(loss(y_true,predicted_output))"
   ]
  },
  {
   "cell_type": "code",
   "execution_count": 7,
   "metadata": {},
   "outputs": [
    {
     "data": {
      "text/plain": [
       "tensor([0.0025], grad_fn=<PowBackward0>)"
      ]
     },
     "execution_count": 7,
     "metadata": {},
     "output_type": "execute_result"
    }
   ],
   "source": [
    "(y_true-(predicted_output))**2"
   ]
  },
  {
   "cell_type": "markdown",
   "metadata": {},
   "source": [
    "## Gradient Descent"
   ]
  },
  {
   "cell_type": "markdown",
   "metadata": {},
   "source": [
    "$$\n",
    "J=loss=(y-\\hat{y})^2=(y-(w_0x_0+w_1x_1+w_2x_2+w_3))^2\n",
    "$$\n",
    "\n",
    "$$\n",
    "\\frac{\\partial J}{\\partial w_0}=\\frac{\\partial (y-(w_0x_0+w_1x_1+w_2x_2+w_3))^2}{\\partial w_0}\n",
    "$$\n",
    "\n",
    "$$\n",
    "\\frac{\\partial J}{\\partial w_0}=2(y-\\hat{y})\\times\\frac{\\partial}{\\partial w_0}(y-(w_0x_0+w_1x_1+w_2x_2+w_3)\n",
    "$$\n",
    "\n",
    "$$\n",
    "\\frac{\\partial J}{\\partial w_0}=2(y-\\hat{y})\\times(-x_0), w_0=w_0-LR \\times  \\frac{\\partial J}{\\partial w_0}\n",
    "$$"
   ]
  },
  {
   "cell_type": "markdown",
   "metadata": {},
   "source": [
    "$$\n",
    "\\frac{\\partial J}{\\partial w_0}=2(y-\\hat{y})\\times(-x_0), \\frac{\\partial J}{\\partial w_1}=2(y-\\hat{y})\\times(-x_1)\n",
    "$$\n",
    "\n",
    "$$\n",
    "\\frac{\\partial J}{\\partial w_2}=2(y-\\hat{y})\\times(-x_2), \\frac{\\partial J}{\\partial w_3}=2(y-\\hat{y})\\times(-1)\n",
    "$$"
   ]
  },
  {
   "cell_type": "markdown",
   "metadata": {},
   "source": [
    "$$\n",
    "w_0=w_0-LR \\times  \\frac{\\partial J}{\\partial w_0}\n",
    "$$\n"
   ]
  },
  {
   "cell_type": "code",
   "execution_count": 11,
   "metadata": {},
   "outputs": [],
   "source": [
    "lr=0.0005"
   ]
  },
  {
   "cell_type": "code",
   "execution_count": 20,
   "metadata": {},
   "outputs": [
    {
     "data": {
      "text/plain": [
       "[<matplotlib.lines.Line2D at 0x1ab0390a5c8>]"
      ]
     },
     "execution_count": 20,
     "metadata": {},
     "output_type": "execute_result"
    },
    {
     "data": {
      "image/png": "[encoded data removed]",
      "text/plain": [
       "<Figure size 432x288 with 4 Axes>"
      ]
     },
     "metadata": {
      "needs_background": "light"
     },
     "output_type": "display_data"
    }
   ],
   "source": [
    "#Fixed Starting Point\n",
    "\n",
    "w_0=-0.0043\n",
    "w_1= 0.3097\n",
    "w_2=-0.4752\n",
    "w_3=-0.4249 \n",
    "\n",
    "#Weight Update Variable\n",
    "\n",
    "new_w_0=w_0\n",
    "new_w_1=w_1\n",
    "new_w_2=w_2\n",
    "new_w_3=w_3\n",
    "\n",
    "#Store checkpoints\n",
    "w_0_list=[]\n",
    "w_1_list=[]\n",
    "w_2_list=[]\n",
    "w_3_list=[]\n",
    "loss_list=[]\n",
    "output_val_list=[]\n",
    "\n",
    "#Single training data and true value\n",
    "sample_input=np.array([3.,4.,6.])\n",
    "y_true=-2\n",
    "\n",
    "#Defining Model\n",
    "def func(w_0,w_1,w_2,w_3):\n",
    "    return w_0*3.+w_1*4.+w_2*6.+w_3\n",
    "\n",
    "for i in range(100):\n",
    "    #Save CheckPoint\n",
    "    \n",
    "    w_0_list.append(new_w_0) \n",
    "    w_1_list.append(new_w_1)\n",
    "    w_2_list.append(new_w_2)\n",
    "    w_3_list.append(new_w_3)\n",
    "    \n",
    "    #Forwarding\n",
    "    pred=func(new_w_0,new_w_1,new_w_2,new_w_3)\n",
    "    output_val_list.append(pred)\n",
    "    \n",
    "    #Calcuating Loss and Saving \n",
    "    loss=(y_true-(pred))**2\n",
    "    loss_list.append(loss)\n",
    "    \n",
    "    #Update/Gradient Descent\n",
    "    new_w_0=new_w_0-lr*2*(y_true-(pred))*(-sample_input[0])\n",
    "    new_w_1=new_w_1-lr*2*(y_true-(pred))*(-sample_input[1])\n",
    "    new_w_2=new_w_2-lr*2*(y_true-(pred))*(-sample_input[2])\n",
    "    new_w_3=new_w_3-lr*2*(y_true-(pred))*(-1)\n",
    "\n",
    "    \n",
    "x=list(np.arange(0,100,1))\n",
    "fig, (ax1, ax2, ax3,ax4) = plt.subplots(4)\n",
    "fig.suptitle('weights update')\n",
    "ax1.plot(x, w_0_list)\n",
    "ax2.plot(x, w_1_list)\n",
    "ax3.plot(x, w_2_list)\n",
    "ax4.plot(x, w_3_list)"
   ]
  },
  {
   "cell_type": "code",
   "execution_count": 13,
   "metadata": {},
   "outputs": [
    {
     "data": {
      "text/plain": [
       "[<matplotlib.lines.Line2D at 0x1ab035cd888>]"
      ]
     },
     "execution_count": 13,
     "metadata": {},
     "output_type": "execute_result"
    },
    {
     "data": {
      "image/png": "[encoded data removed]",
      "text/plain": [
       "<Figure size 432x288 with 2 Axes>"
      ]
     },
     "metadata": {
      "needs_background": "light"
     },
     "output_type": "display_data"
    }
   ],
   "source": [
    "fig, (ax1, ax2) = plt.subplots(2)\n",
    "fig.suptitle('loss and predicted_value')\n",
    "ax1.plot(x, loss_list)\n",
    "ax2.plot(x, output_val_list)\n",
    "ax2.plot(x, np.ones(100)*-2)"
   ]
  },
  {
   "cell_type": "markdown",
   "metadata": {},
   "source": [
    "## Backward Propagation\n",
    "\n",
    "https://www.jeremyjordan.me/neural-networks-training/"
   ]
  },
  {
   "cell_type": "markdown",
   "metadata": {},
   "source": [
    "<center>Two Stage Network\n",
    "</center>\n",
    "<img src=\"img/step1.png\" width=600/>\n",
    "\n"
   ]
  },
  {
   "cell_type": "markdown",
   "metadata": {},
   "source": [
    "<center>Forwarding\n",
    "</center>\n",
    "\n",
    "<img src=\"img/step2.png\" width=600/>\n"
   ]
  },
  {
   "cell_type": "markdown",
   "metadata": {},
   "source": [
    "<center>Influence of $\\theta_{11}^{(1)}$\n",
    "    \n",
    "</center>\n",
    "<img src=\"img/step3.png\" width=600/>\n"
   ]
  },
  {
   "cell_type": "markdown",
   "metadata": {},
   "source": [
    "<img src=\"img/step4.png\" width=600/>\n"
   ]
  },
  {
   "cell_type": "markdown",
   "metadata": {},
   "source": [
    "#### Where the term \"backpropgation\" came from\n",
    "<p float=\"left\">\n",
    "<img src=\"img/step5.png\" width=500/>\n",
    "   <img src=\"img/step1.png\" width=500/>\n",
    "<p float=\"left\">"
   ]
  },
  {
   "cell_type": "code",
   "execution_count": null,
   "metadata": {},
   "outputs": [],
   "source": []
  },
  {
   "cell_type": "code",
   "execution_count": null,
   "metadata": {},
   "outputs": [],
   "source": []
  },
  {
   "cell_type": "code",
   "execution_count": null,
   "metadata": {},
   "outputs": [],
   "source": []
  },
  {
   "cell_type": "code",
   "execution_count": null,
   "metadata": {},
   "outputs": [],
   "source": []
  },
  {
   "cell_type": "code",
   "execution_count": null,
   "metadata": {},
   "outputs": [],
   "source": []
  },
  {
   "cell_type": "code",
   "execution_count": null,
   "metadata": {},
   "outputs": [],
   "source": []
  },
  {
   "cell_type": "code",
   "execution_count": null,
   "metadata": {},
   "outputs": [],
   "source": []
  },
  {
   "cell_type": "code",
   "execution_count": null,
   "metadata": {},
   "outputs": [],
   "source": []
  },
  {
   "cell_type": "code",
   "execution_count": null,
   "metadata": {},
   "outputs": [],
   "source": []
  },
  {
   "cell_type": "code",
   "execution_count": null,
   "metadata": {},
   "outputs": [],
   "source": []
  },
  {
   "cell_type": "code",
   "execution_count": null,
   "metadata": {},
   "outputs": [],
   "source": []
  },
  {
   "cell_type": "code",
   "execution_count": null,
   "metadata": {},
   "outputs": [],
   "source": []
  },
  {
   "cell_type": "code",
   "execution_count": null,
   "metadata": {},
   "outputs": [],
   "source": []
  },
  {
   "cell_type": "code",
   "execution_count": null,
   "metadata": {},
   "outputs": [],
   "source": []
  },
  {
   "cell_type": "code",
   "execution_count": null,
   "metadata": {},
   "outputs": [],
   "source": []
  }
 ],
 "metadata": {
  "kernelspec": {
   "display_name": "Python 3",
   "language": "python",
   "name": "python3"
  },
  "language_info": {
   "codemirror_mode": {
    "name": "ipython",
    "version": 3
   },
   "file_extension": ".py",
   "mimetype": "text/x-python",
   "name": "python",
   "nbconvert_exporter": "python",
   "pygments_lexer": "ipython3",
   "version": "3.7.5"
  }
 },
 "nbformat": 4,
 "nbformat_minor": 4
}
